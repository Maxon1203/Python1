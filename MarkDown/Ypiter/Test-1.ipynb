{
 "cells": [
  {
   "attachments": {},
   "cell_type": "markdown",
   "metadata": {},
   "source": [
    "### Test"
   ]
  },
  {
   "cell_type": "code",
   "execution_count": null,
   "metadata": {},
   "outputs": [],
   "source": [
    "import pandas as pd\n",
    "import numpy as np\n"
   ]
  },
  {
   "cell_type": "code",
   "execution_count": null,
   "metadata": {},
   "outputs": [],
   "source": [
    "anime = pd.read_csv(r'C:\\Users\\Max\\Desktop\\Para\\MarkDown\\Ypiter\\anime.csv')\n",
    "anime.head()\n",
    "\n",
    "anime_copy = anime.copy()\n",
    "# Вывод первых 5 элементов списка\n",
    "anime_copy.head(5)\n",
    "# вывод последнего элемента списка\n",
    "anime_copy.tail(1)\n"
   ]
  },
  {
   "cell_type": "code",
   "execution_count": null,
   "metadata": {},
   "outputs": [],
   "source": [
    "\n",
    "# Создание и сохранение данных в другой файл csv\n",
    "anime = pd.read_csv(r'C:\\Users\\Max\\Desktop\\Para\\MarkDown\\Ypiter\\anime.csv')\n",
    "\n",
    "anime[:50].to_csv('saved_anime.csv',index=False)\n",
    "testSave  = pd.read_csv(r\"C:\\Users\\Max\\Desktop\\Para\\MarkDown\\Ypiter\\saved_anime.csv\")\n",
    "testSave[['name','genre','type','episodes']]"
   ]
  },
  {
   "cell_type": "code",
   "execution_count": null,
   "metadata": {},
   "outputs": [],
   "source": [
    "# Создание своего дата фрэйма (таблицы)\n",
    "soloData = pd.DataFrame([[1,\"Max\",\"Gatskan\",\"Nikolaevich\"],\n",
    "                        [2, \"Test\",\"MAN\", \"sHIMBA\"],\n",
    "                        [3, \"Test\",\"MAN\", \"Test\"]],\n",
    "                        index=['MPT','REY','BAY'],\n",
    "                        columns=[\"id\",\"name\",\"FIO\", \"Otch\"])\n",
    "# сохранение нашего DataFrame\n",
    "soloData.to_csv('MyDataFrame.csv')\n",
    "\n",
    "myPD = pd.read_csv(r'C:\\Users\\Max\\Desktop\\Para\\MarkDown\\Ypiter\\MyDataFrame.csv')\n",
    "soloData"
   ]
  },
  {
   "cell_type": "code",
   "execution_count": null,
   "metadata": {},
   "outputs": [],
   "source": [
    "# Подсчет уникальных значений в DataFrame\n",
    "anime.nunique()\n"
   ]
  },
  {
   "cell_type": "code",
   "execution_count": null,
   "metadata": {},
   "outputs": [],
   "source": [
    "anime = pd.read_csv(r'C:\\Users\\Max\\Desktop\\Para\\MarkDown\\Ypiter\\anime.csv')\n",
    "# вывод колличества уникальных элементов \n",
    "len(anime['anime_id'].unique())\n",
    "# Получение сведений о датафрейме\n",
    "anime.info()"
   ]
  },
  {
   "cell_type": "code",
   "execution_count": null,
   "metadata": {},
   "outputs": [],
   "source": [
    "# Вывод статистических сведений о датафрейме\n",
    "anime.describe()"
   ]
  },
  {
   "cell_type": "code",
   "execution_count": null,
   "metadata": {},
   "outputs": [],
   "source": [
    "# Подсчёт количества значений\n",
    "# type - это столбец по которому идет подсчет\n",
    "anime.type.value_counts()"
   ]
  },
  {
   "cell_type": "code",
   "execution_count": null,
   "metadata": {},
   "outputs": [],
   "source": [
    "# Создание списка или объекта Series на основе значений столбца\n",
    "testM = anime['genre'].tolist()\n",
    "# testM = anime['genre']\n",
    "testM"
   ]
  },
  {
   "cell_type": "code",
   "execution_count": null,
   "metadata": {},
   "outputs": [],
   "source": [
    "# Создание нового датафрейма из подмножества столбцов\n",
    "# Это может пригодиться в том случае, если требуется сохранить в новом датафрейме несколько столбцов огромного датафрейма, но при этом не хочется выписывать имена столбцов, которые нужно удалить\n",
    "nowCol = anime[['name','episodes']]\n",
    "nowCol"
   ]
  },
  {
   "cell_type": "code",
   "execution_count": null,
   "metadata": {},
   "outputs": [],
   "source": [
    "# Удаление заданных столбцов\n",
    "# Этот приём может оказаться полезным в том случае, если из датафрейма нужно удалить лишь несколько столбцов.\n",
    "# Если удалять нужно много столбцов, то эта задача может оказаться довольно-таки утомительной, \n",
    "# поэтому тут я предпочитаю пользоваться возможностью, описанной в предыдущем разделе.\n",
    "\n",
    "dropDF = testSave.drop(['anime_id', 'genre', 'members'], axis=1)\n",
    "dropDF"
   ]
  },
  {
   "cell_type": "code",
   "execution_count": null,
   "metadata": {},
   "outputs": [],
   "source": [
    "\n",
    "# В pandas axis = 0 относится к горизонтальной оси или строкам, а axis = 1 относится к вертикальной оси или столбцам.\n",
    "df = pd.DataFrame([[1,'Bob', 8000],\n",
    "                  [2,'Sally', 9000],\n",
    "                  [3,'Scott', 20]], columns=['id','name', 'power level'])\n",
    "df.append(df.mean(axis=0), ignore_index=True)"
   ]
  },
  {
   "cell_type": "code",
   "execution_count": null,
   "metadata": {},
   "outputs": [],
   "source": [
    "# Комбинирование датафреймов\n",
    "# Эта методика применима в ситуациях, когда имеются два датафрейма с одинаковыми столбцами, которые нужно скомбинировать.\n",
    "# В данном примере мы сначала разделяем датафрейм на две части, а потом снова объединяем эти части:\n",
    "df1 = anime[0:2]\n",
    "df2 = anime[2:4]\n",
    "pd.concat([df1, df2])"
   ]
  },
  {
   "cell_type": "code",
   "execution_count": null,
   "metadata": {},
   "outputs": [],
   "source": [
    "# Фильтрация при помощи loc\n",
    "soloData.loc[['BAY']]\n",
    "# Фильтрация при помощи iloc по id c 1 по 3 элемент\n",
    "soloData.iloc[0:3]"
   ]
  },
  {
   "cell_type": "code",
   "execution_count": null,
   "metadata": {},
   "outputs": [],
   "source": [
    "# Получение строк по заданным значениям столбцов\n",
    "# Для получения строк датафрейма в ситуации, когда имеется список значений столбцов, можно воспользоваться следующей командой:\n",
    "anime[anime['type'].isin(['TV', 'Movie'])]\n",
    "\n",
    "# Если нас интересует единственное значение — можно воспользоваться такой конструкцией:\n",
    "anime[anime['type'] == 'TV']"
   ]
  },
  {
   "cell_type": "code",
   "execution_count": null,
   "metadata": {},
   "outputs": [],
   "source": [
    "# Фильтрация по значению\n",
    "# Из датафреймов можно выбирать строки, соответствующие заданному условию. \n",
    "# Обратите внимание на то, что при использовании этого метода сохраняются существующие индексные значения.\n",
    "anime[anime['rating'] >=9.5]"
   ]
  },
  {
   "cell_type": "code",
   "execution_count": null,
   "metadata": {},
   "outputs": [],
   "source": [
    "# Сортировка\n",
    "# Для сортировки датафреймов по значениям столбцов можно воспользоваться функцией df.sort_values:\n",
    "anime.sort_values('rating', ascending=False).head(100)"
   ]
  },
  {
   "cell_type": "code",
   "execution_count": null,
   "metadata": {},
   "outputs": [],
   "source": [
    "# Агрегирование\n",
    "# Функция df.groupby и подсчёт количества записей\n",
    "# Вот как подсчитать количество записей с различными значениями в столбцах:\n",
    "\n",
    "Grouptype =  anime.groupby('type').count()\n",
    "Grouptype"
   ]
  },
  {
   "cell_type": "code",
   "execution_count": null,
   "metadata": {},
   "outputs": [],
   "source": [
    "# Поиск\n",
    "Grouptype.loc[['Movie']]"
   ]
  },
  {
   "cell_type": "code",
   "execution_count": 304,
   "metadata": {},
   "outputs": [
    {
     "data": {
      "text/html": [
       "<div>\n",
       "<style scoped>\n",
       "    .dataframe tbody tr th:only-of-type {\n",
       "        vertical-align: middle;\n",
       "    }\n",
       "\n",
       "    .dataframe tbody tr th {\n",
       "        vertical-align: top;\n",
       "    }\n",
       "\n",
       "    .dataframe thead th {\n",
       "        text-align: right;\n",
       "    }\n",
       "</style>\n",
       "<table border=\"1\" class=\"dataframe\">\n",
       "  <thead>\n",
       "    <tr style=\"text-align: right;\">\n",
       "      <th></th>\n",
       "      <th>type</th>\n",
       "      <th>rating</th>\n",
       "      <th>episodes</th>\n",
       "      <th>name</th>\n",
       "    </tr>\n",
       "  </thead>\n",
       "  <tbody>\n",
       "    <tr>\n",
       "      <th>0</th>\n",
       "      <td>Movie</td>\n",
       "      <td>14512.58</td>\n",
       "      <td>2348</td>\n",
       "      <td>Kimi no Na wa.</td>\n",
       "    </tr>\n",
       "    <tr>\n",
       "      <th>1</th>\n",
       "      <td>Music</td>\n",
       "      <td>2727.43</td>\n",
       "      <td>488</td>\n",
       "      <td>Shelter</td>\n",
       "    </tr>\n",
       "    <tr>\n",
       "      <th>2</th>\n",
       "      <td>ONA</td>\n",
       "      <td>3679.43</td>\n",
       "      <td>659</td>\n",
       "      <td>Eve no Jikan</td>\n",
       "    </tr>\n",
       "    <tr>\n",
       "      <th>3</th>\n",
       "      <td>OVA</td>\n",
       "      <td>20942.60</td>\n",
       "      <td>3311</td>\n",
       "      <td>Ginga Eiyuu Densetsu</td>\n",
       "    </tr>\n",
       "    <tr>\n",
       "      <th>4</th>\n",
       "      <td>Special</td>\n",
       "      <td>10900.77</td>\n",
       "      <td>1676</td>\n",
       "      <td>Mushishi Special: Hihamukage</td>\n",
       "    </tr>\n",
       "    <tr>\n",
       "      <th>5</th>\n",
       "      <td>TV</td>\n",
       "      <td>25338.34</td>\n",
       "      <td>3787</td>\n",
       "      <td>Fullmetal Alchemist: Brotherhood</td>\n",
       "    </tr>\n",
       "  </tbody>\n",
       "</table>\n",
       "</div>"
      ],
      "text/plain": [
       "      type    rating  episodes                              name\n",
       "0    Movie  14512.58      2348                    Kimi no Na wa.\n",
       "1    Music   2727.43       488                           Shelter\n",
       "2      ONA   3679.43       659                      Eve no Jikan\n",
       "3      OVA  20942.60      3311              Ginga Eiyuu Densetsu\n",
       "4  Special  10900.77      1676      Mushishi Special: Hihamukage\n",
       "5       TV  25338.34      3787  Fullmetal Alchemist: Brotherhood"
      ]
     },
     "execution_count": 304,
     "metadata": {},
     "output_type": "execute_result"
    }
   ],
   "source": [
    "anime.groupby([\"type\"]).agg({\n",
    "  \"rating\": \"sum\",\n",
    "  \"episodes\": \"count\",\n",
    "  \"name\": \"first\"\n",
    "}).reset_index()"
   ]
  },
  {
   "cell_type": "code",
   "execution_count": null,
   "metadata": {},
   "outputs": [],
   "source": [
    "# tmp_df = anime.copy()\n",
    "# tmp_df.sort_values('user_id', ascending=True, inplace=True)\n",
    "# tmp_df = tmp_df[tmp_df.user_id < 10] \n",
    "# tmp_df = tmp_df[tmp_df.anime_id < 30]\n",
    "# tmp_df = tmp_df[tmp_df.rating != -1]\n",
    "# pd.pivot_table(tmp_df, values='rating', index=['user_id'], columns=['anime_id'], aggfunc=np.sum, fill_value=0)"
   ]
  }
 ],
 "metadata": {
  "kernelspec": {
   "display_name": "Python 3",
   "language": "python",
   "name": "python3"
  },
  "language_info": {
   "codemirror_mode": {
    "name": "ipython",
    "version": 3
   },
   "file_extension": ".py",
   "mimetype": "text/x-python",
   "name": "python",
   "nbconvert_exporter": "python",
   "pygments_lexer": "ipython3",
   "version": "3.11.1"
  },
  "orig_nbformat": 4,
  "vscode": {
   "interpreter": {
    "hash": "3b3b46b69f0eab1a7469be54fbee33e2fe54db998c9744086424801813318979"
   }
  }
 },
 "nbformat": 4,
 "nbformat_minor": 2
}
